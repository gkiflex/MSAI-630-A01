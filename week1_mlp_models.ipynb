{
  "nbformat": 4,
  "nbformat_minor": 0,
  "metadata": {
    "colab": {
      "provenance": []
    },
    "kernelspec": {
      "name": "python3",
      "display_name": "Python 3"
    },
    "language_info": {
      "name": "python"
    }
  },
  "cells": [
    {
      "cell_type": "code",
      "execution_count": 1,
      "metadata": {
        "colab": {
          "base_uri": "https://localhost:8080/",
          "height": 1000
        },
        "id": "Ze6hcE0LjJs3",
        "outputId": "b02578d3-f519-4fc6-be28-5a2ea90bcba9"
      },
      "outputs": [
        {
          "output_type": "stream",
          "name": "stdout",
          "text": [
            "Downloading data from https://www.cs.toronto.edu/~kriz/cifar-10-python.tar.gz\n",
            "\u001b[1m170498071/170498071\u001b[0m \u001b[32m━━━━━━━━━━━━━━━━━━━━\u001b[0m\u001b[37m\u001b[0m \u001b[1m3s\u001b[0m 0us/step\n",
            "Training data shape: (50000, 32, 32, 3)\n",
            "Training labels shape: (50000, 10)\n",
            "Test data shape: (10000, 32, 32, 3)\n",
            "Test labels shape: (10000, 10)\n",
            "Building models...\n",
            "\n",
            "=== ReLU Model Summary ===\n"
          ]
        },
        {
          "output_type": "stream",
          "name": "stderr",
          "text": [
            "/usr/local/lib/python3.12/dist-packages/keras/src/layers/activations/leaky_relu.py:41: UserWarning: Argument `alpha` is deprecated. Use `negative_slope` instead.\n",
            "  warnings.warn(\n"
          ]
        },
        {
          "output_type": "display_data",
          "data": {
            "text/plain": [
              "\u001b[1mModel: \"functional\"\u001b[0m\n"
            ],
            "text/html": [
              "<pre style=\"white-space:pre;overflow-x:auto;line-height:normal;font-family:Menlo,'DejaVu Sans Mono',consolas,'Courier New',monospace\"><span style=\"font-weight: bold\">Model: \"functional\"</span>\n",
              "</pre>\n"
            ]
          },
          "metadata": {}
        },
        {
          "output_type": "display_data",
          "data": {
            "text/plain": [
              "┏━━━━━━━━━━━━━━━━━━━━━━━━━━━━━━━━━┳━━━━━━━━━━━━━━━━━━━━━━━━┳━━━━━━━━━━━━━━━┓\n",
              "┃\u001b[1m \u001b[0m\u001b[1mLayer (type)                   \u001b[0m\u001b[1m \u001b[0m┃\u001b[1m \u001b[0m\u001b[1mOutput Shape          \u001b[0m\u001b[1m \u001b[0m┃\u001b[1m \u001b[0m\u001b[1m      Param #\u001b[0m\u001b[1m \u001b[0m┃\n",
              "┡━━━━━━━━━━━━━━━━━━━━━━━━━━━━━━━━━╇━━━━━━━━━━━━━━━━━━━━━━━━╇━━━━━━━━━━━━━━━┩\n",
              "│ input_layer (\u001b[38;5;33mInputLayer\u001b[0m)        │ (\u001b[38;5;45mNone\u001b[0m, \u001b[38;5;34m32\u001b[0m, \u001b[38;5;34m32\u001b[0m, \u001b[38;5;34m3\u001b[0m)      │             \u001b[38;5;34m0\u001b[0m │\n",
              "├─────────────────────────────────┼────────────────────────┼───────────────┤\n",
              "│ flatten (\u001b[38;5;33mFlatten\u001b[0m)               │ (\u001b[38;5;45mNone\u001b[0m, \u001b[38;5;34m3072\u001b[0m)           │             \u001b[38;5;34m0\u001b[0m │\n",
              "├─────────────────────────────────┼────────────────────────┼───────────────┤\n",
              "│ dense (\u001b[38;5;33mDense\u001b[0m)                   │ (\u001b[38;5;45mNone\u001b[0m, \u001b[38;5;34m200\u001b[0m)            │       \u001b[38;5;34m614,600\u001b[0m │\n",
              "├─────────────────────────────────┼────────────────────────┼───────────────┤\n",
              "│ dense_1 (\u001b[38;5;33mDense\u001b[0m)                 │ (\u001b[38;5;45mNone\u001b[0m, \u001b[38;5;34m150\u001b[0m)            │        \u001b[38;5;34m30,150\u001b[0m │\n",
              "├─────────────────────────────────┼────────────────────────┼───────────────┤\n",
              "│ dense_2 (\u001b[38;5;33mDense\u001b[0m)                 │ (\u001b[38;5;45mNone\u001b[0m, \u001b[38;5;34m10\u001b[0m)             │         \u001b[38;5;34m1,510\u001b[0m │\n",
              "└─────────────────────────────────┴────────────────────────┴───────────────┘\n"
            ],
            "text/html": [
              "<pre style=\"white-space:pre;overflow-x:auto;line-height:normal;font-family:Menlo,'DejaVu Sans Mono',consolas,'Courier New',monospace\">┏━━━━━━━━━━━━━━━━━━━━━━━━━━━━━━━━━┳━━━━━━━━━━━━━━━━━━━━━━━━┳━━━━━━━━━━━━━━━┓\n",
              "┃<span style=\"font-weight: bold\"> Layer (type)                    </span>┃<span style=\"font-weight: bold\"> Output Shape           </span>┃<span style=\"font-weight: bold\">       Param # </span>┃\n",
              "┡━━━━━━━━━━━━━━━━━━━━━━━━━━━━━━━━━╇━━━━━━━━━━━━━━━━━━━━━━━━╇━━━━━━━━━━━━━━━┩\n",
              "│ input_layer (<span style=\"color: #0087ff; text-decoration-color: #0087ff\">InputLayer</span>)        │ (<span style=\"color: #00d7ff; text-decoration-color: #00d7ff\">None</span>, <span style=\"color: #00af00; text-decoration-color: #00af00\">32</span>, <span style=\"color: #00af00; text-decoration-color: #00af00\">32</span>, <span style=\"color: #00af00; text-decoration-color: #00af00\">3</span>)      │             <span style=\"color: #00af00; text-decoration-color: #00af00\">0</span> │\n",
              "├─────────────────────────────────┼────────────────────────┼───────────────┤\n",
              "│ flatten (<span style=\"color: #0087ff; text-decoration-color: #0087ff\">Flatten</span>)               │ (<span style=\"color: #00d7ff; text-decoration-color: #00d7ff\">None</span>, <span style=\"color: #00af00; text-decoration-color: #00af00\">3072</span>)           │             <span style=\"color: #00af00; text-decoration-color: #00af00\">0</span> │\n",
              "├─────────────────────────────────┼────────────────────────┼───────────────┤\n",
              "│ dense (<span style=\"color: #0087ff; text-decoration-color: #0087ff\">Dense</span>)                   │ (<span style=\"color: #00d7ff; text-decoration-color: #00d7ff\">None</span>, <span style=\"color: #00af00; text-decoration-color: #00af00\">200</span>)            │       <span style=\"color: #00af00; text-decoration-color: #00af00\">614,600</span> │\n",
              "├─────────────────────────────────┼────────────────────────┼───────────────┤\n",
              "│ dense_1 (<span style=\"color: #0087ff; text-decoration-color: #0087ff\">Dense</span>)                 │ (<span style=\"color: #00d7ff; text-decoration-color: #00d7ff\">None</span>, <span style=\"color: #00af00; text-decoration-color: #00af00\">150</span>)            │        <span style=\"color: #00af00; text-decoration-color: #00af00\">30,150</span> │\n",
              "├─────────────────────────────────┼────────────────────────┼───────────────┤\n",
              "│ dense_2 (<span style=\"color: #0087ff; text-decoration-color: #0087ff\">Dense</span>)                 │ (<span style=\"color: #00d7ff; text-decoration-color: #00d7ff\">None</span>, <span style=\"color: #00af00; text-decoration-color: #00af00\">10</span>)             │         <span style=\"color: #00af00; text-decoration-color: #00af00\">1,510</span> │\n",
              "└─────────────────────────────────┴────────────────────────┴───────────────┘\n",
              "</pre>\n"
            ]
          },
          "metadata": {}
        },
        {
          "output_type": "display_data",
          "data": {
            "text/plain": [
              "\u001b[1m Total params: \u001b[0m\u001b[38;5;34m646,260\u001b[0m (2.47 MB)\n"
            ],
            "text/html": [
              "<pre style=\"white-space:pre;overflow-x:auto;line-height:normal;font-family:Menlo,'DejaVu Sans Mono',consolas,'Courier New',monospace\"><span style=\"font-weight: bold\"> Total params: </span><span style=\"color: #00af00; text-decoration-color: #00af00\">646,260</span> (2.47 MB)\n",
              "</pre>\n"
            ]
          },
          "metadata": {}
        },
        {
          "output_type": "display_data",
          "data": {
            "text/plain": [
              "\u001b[1m Trainable params: \u001b[0m\u001b[38;5;34m646,260\u001b[0m (2.47 MB)\n"
            ],
            "text/html": [
              "<pre style=\"white-space:pre;overflow-x:auto;line-height:normal;font-family:Menlo,'DejaVu Sans Mono',consolas,'Courier New',monospace\"><span style=\"font-weight: bold\"> Trainable params: </span><span style=\"color: #00af00; text-decoration-color: #00af00\">646,260</span> (2.47 MB)\n",
              "</pre>\n"
            ]
          },
          "metadata": {}
        },
        {
          "output_type": "display_data",
          "data": {
            "text/plain": [
              "\u001b[1m Non-trainable params: \u001b[0m\u001b[38;5;34m0\u001b[0m (0.00 B)\n"
            ],
            "text/html": [
              "<pre style=\"white-space:pre;overflow-x:auto;line-height:normal;font-family:Menlo,'DejaVu Sans Mono',consolas,'Courier New',monospace\"><span style=\"font-weight: bold\"> Non-trainable params: </span><span style=\"color: #00af00; text-decoration-color: #00af00\">0</span> (0.00 B)\n",
              "</pre>\n"
            ]
          },
          "metadata": {}
        },
        {
          "output_type": "stream",
          "name": "stdout",
          "text": [
            "\n",
            "=== LeakyReLU Model Summary ===\n"
          ]
        },
        {
          "output_type": "display_data",
          "data": {
            "text/plain": [
              "\u001b[1mModel: \"functional_1\"\u001b[0m\n"
            ],
            "text/html": [
              "<pre style=\"white-space:pre;overflow-x:auto;line-height:normal;font-family:Menlo,'DejaVu Sans Mono',consolas,'Courier New',monospace\"><span style=\"font-weight: bold\">Model: \"functional_1\"</span>\n",
              "</pre>\n"
            ]
          },
          "metadata": {}
        },
        {
          "output_type": "display_data",
          "data": {
            "text/plain": [
              "┏━━━━━━━━━━━━━━━━━━━━━━━━━━━━━━━━━┳━━━━━━━━━━━━━━━━━━━━━━━━┳━━━━━━━━━━━━━━━┓\n",
              "┃\u001b[1m \u001b[0m\u001b[1mLayer (type)                   \u001b[0m\u001b[1m \u001b[0m┃\u001b[1m \u001b[0m\u001b[1mOutput Shape          \u001b[0m\u001b[1m \u001b[0m┃\u001b[1m \u001b[0m\u001b[1m      Param #\u001b[0m\u001b[1m \u001b[0m┃\n",
              "┡━━━━━━━━━━━━━━━━━━━━━━━━━━━━━━━━━╇━━━━━━━━━━━━━━━━━━━━━━━━╇━━━━━━━━━━━━━━━┩\n",
              "│ input_layer_1 (\u001b[38;5;33mInputLayer\u001b[0m)      │ (\u001b[38;5;45mNone\u001b[0m, \u001b[38;5;34m32\u001b[0m, \u001b[38;5;34m32\u001b[0m, \u001b[38;5;34m3\u001b[0m)      │             \u001b[38;5;34m0\u001b[0m │\n",
              "├─────────────────────────────────┼────────────────────────┼───────────────┤\n",
              "│ flatten_1 (\u001b[38;5;33mFlatten\u001b[0m)             │ (\u001b[38;5;45mNone\u001b[0m, \u001b[38;5;34m3072\u001b[0m)           │             \u001b[38;5;34m0\u001b[0m │\n",
              "├─────────────────────────────────┼────────────────────────┼───────────────┤\n",
              "│ dense_3 (\u001b[38;5;33mDense\u001b[0m)                 │ (\u001b[38;5;45mNone\u001b[0m, \u001b[38;5;34m200\u001b[0m)            │       \u001b[38;5;34m614,600\u001b[0m │\n",
              "├─────────────────────────────────┼────────────────────────┼───────────────┤\n",
              "│ leaky_re_lu (\u001b[38;5;33mLeakyReLU\u001b[0m)         │ (\u001b[38;5;45mNone\u001b[0m, \u001b[38;5;34m200\u001b[0m)            │             \u001b[38;5;34m0\u001b[0m │\n",
              "├─────────────────────────────────┼────────────────────────┼───────────────┤\n",
              "│ dense_4 (\u001b[38;5;33mDense\u001b[0m)                 │ (\u001b[38;5;45mNone\u001b[0m, \u001b[38;5;34m150\u001b[0m)            │        \u001b[38;5;34m30,150\u001b[0m │\n",
              "├─────────────────────────────────┼────────────────────────┼───────────────┤\n",
              "│ leaky_re_lu_1 (\u001b[38;5;33mLeakyReLU\u001b[0m)       │ (\u001b[38;5;45mNone\u001b[0m, \u001b[38;5;34m150\u001b[0m)            │             \u001b[38;5;34m0\u001b[0m │\n",
              "├─────────────────────────────────┼────────────────────────┼───────────────┤\n",
              "│ dense_5 (\u001b[38;5;33mDense\u001b[0m)                 │ (\u001b[38;5;45mNone\u001b[0m, \u001b[38;5;34m10\u001b[0m)             │         \u001b[38;5;34m1,510\u001b[0m │\n",
              "└─────────────────────────────────┴────────────────────────┴───────────────┘\n"
            ],
            "text/html": [
              "<pre style=\"white-space:pre;overflow-x:auto;line-height:normal;font-family:Menlo,'DejaVu Sans Mono',consolas,'Courier New',monospace\">┏━━━━━━━━━━━━━━━━━━━━━━━━━━━━━━━━━┳━━━━━━━━━━━━━━━━━━━━━━━━┳━━━━━━━━━━━━━━━┓\n",
              "┃<span style=\"font-weight: bold\"> Layer (type)                    </span>┃<span style=\"font-weight: bold\"> Output Shape           </span>┃<span style=\"font-weight: bold\">       Param # </span>┃\n",
              "┡━━━━━━━━━━━━━━━━━━━━━━━━━━━━━━━━━╇━━━━━━━━━━━━━━━━━━━━━━━━╇━━━━━━━━━━━━━━━┩\n",
              "│ input_layer_1 (<span style=\"color: #0087ff; text-decoration-color: #0087ff\">InputLayer</span>)      │ (<span style=\"color: #00d7ff; text-decoration-color: #00d7ff\">None</span>, <span style=\"color: #00af00; text-decoration-color: #00af00\">32</span>, <span style=\"color: #00af00; text-decoration-color: #00af00\">32</span>, <span style=\"color: #00af00; text-decoration-color: #00af00\">3</span>)      │             <span style=\"color: #00af00; text-decoration-color: #00af00\">0</span> │\n",
              "├─────────────────────────────────┼────────────────────────┼───────────────┤\n",
              "│ flatten_1 (<span style=\"color: #0087ff; text-decoration-color: #0087ff\">Flatten</span>)             │ (<span style=\"color: #00d7ff; text-decoration-color: #00d7ff\">None</span>, <span style=\"color: #00af00; text-decoration-color: #00af00\">3072</span>)           │             <span style=\"color: #00af00; text-decoration-color: #00af00\">0</span> │\n",
              "├─────────────────────────────────┼────────────────────────┼───────────────┤\n",
              "│ dense_3 (<span style=\"color: #0087ff; text-decoration-color: #0087ff\">Dense</span>)                 │ (<span style=\"color: #00d7ff; text-decoration-color: #00d7ff\">None</span>, <span style=\"color: #00af00; text-decoration-color: #00af00\">200</span>)            │       <span style=\"color: #00af00; text-decoration-color: #00af00\">614,600</span> │\n",
              "├─────────────────────────────────┼────────────────────────┼───────────────┤\n",
              "│ leaky_re_lu (<span style=\"color: #0087ff; text-decoration-color: #0087ff\">LeakyReLU</span>)         │ (<span style=\"color: #00d7ff; text-decoration-color: #00d7ff\">None</span>, <span style=\"color: #00af00; text-decoration-color: #00af00\">200</span>)            │             <span style=\"color: #00af00; text-decoration-color: #00af00\">0</span> │\n",
              "├─────────────────────────────────┼────────────────────────┼───────────────┤\n",
              "│ dense_4 (<span style=\"color: #0087ff; text-decoration-color: #0087ff\">Dense</span>)                 │ (<span style=\"color: #00d7ff; text-decoration-color: #00d7ff\">None</span>, <span style=\"color: #00af00; text-decoration-color: #00af00\">150</span>)            │        <span style=\"color: #00af00; text-decoration-color: #00af00\">30,150</span> │\n",
              "├─────────────────────────────────┼────────────────────────┼───────────────┤\n",
              "│ leaky_re_lu_1 (<span style=\"color: #0087ff; text-decoration-color: #0087ff\">LeakyReLU</span>)       │ (<span style=\"color: #00d7ff; text-decoration-color: #00d7ff\">None</span>, <span style=\"color: #00af00; text-decoration-color: #00af00\">150</span>)            │             <span style=\"color: #00af00; text-decoration-color: #00af00\">0</span> │\n",
              "├─────────────────────────────────┼────────────────────────┼───────────────┤\n",
              "│ dense_5 (<span style=\"color: #0087ff; text-decoration-color: #0087ff\">Dense</span>)                 │ (<span style=\"color: #00d7ff; text-decoration-color: #00d7ff\">None</span>, <span style=\"color: #00af00; text-decoration-color: #00af00\">10</span>)             │         <span style=\"color: #00af00; text-decoration-color: #00af00\">1,510</span> │\n",
              "└─────────────────────────────────┴────────────────────────┴───────────────┘\n",
              "</pre>\n"
            ]
          },
          "metadata": {}
        },
        {
          "output_type": "display_data",
          "data": {
            "text/plain": [
              "\u001b[1m Total params: \u001b[0m\u001b[38;5;34m646,260\u001b[0m (2.47 MB)\n"
            ],
            "text/html": [
              "<pre style=\"white-space:pre;overflow-x:auto;line-height:normal;font-family:Menlo,'DejaVu Sans Mono',consolas,'Courier New',monospace\"><span style=\"font-weight: bold\"> Total params: </span><span style=\"color: #00af00; text-decoration-color: #00af00\">646,260</span> (2.47 MB)\n",
              "</pre>\n"
            ]
          },
          "metadata": {}
        },
        {
          "output_type": "display_data",
          "data": {
            "text/plain": [
              "\u001b[1m Trainable params: \u001b[0m\u001b[38;5;34m646,260\u001b[0m (2.47 MB)\n"
            ],
            "text/html": [
              "<pre style=\"white-space:pre;overflow-x:auto;line-height:normal;font-family:Menlo,'DejaVu Sans Mono',consolas,'Courier New',monospace\"><span style=\"font-weight: bold\"> Trainable params: </span><span style=\"color: #00af00; text-decoration-color: #00af00\">646,260</span> (2.47 MB)\n",
              "</pre>\n"
            ]
          },
          "metadata": {}
        },
        {
          "output_type": "display_data",
          "data": {
            "text/plain": [
              "\u001b[1m Non-trainable params: \u001b[0m\u001b[38;5;34m0\u001b[0m (0.00 B)\n"
            ],
            "text/html": [
              "<pre style=\"white-space:pre;overflow-x:auto;line-height:normal;font-family:Menlo,'DejaVu Sans Mono',consolas,'Courier New',monospace\"><span style=\"font-weight: bold\"> Non-trainable params: </span><span style=\"color: #00af00; text-decoration-color: #00af00\">0</span> (0.00 B)\n",
              "</pre>\n"
            ]
          },
          "metadata": {}
        },
        {
          "output_type": "stream",
          "name": "stdout",
          "text": [
            "\n",
            "=== Sigmoid Model Summary ===\n"
          ]
        },
        {
          "output_type": "display_data",
          "data": {
            "text/plain": [
              "\u001b[1mModel: \"functional_2\"\u001b[0m\n"
            ],
            "text/html": [
              "<pre style=\"white-space:pre;overflow-x:auto;line-height:normal;font-family:Menlo,'DejaVu Sans Mono',consolas,'Courier New',monospace\"><span style=\"font-weight: bold\">Model: \"functional_2\"</span>\n",
              "</pre>\n"
            ]
          },
          "metadata": {}
        },
        {
          "output_type": "display_data",
          "data": {
            "text/plain": [
              "┏━━━━━━━━━━━━━━━━━━━━━━━━━━━━━━━━━┳━━━━━━━━━━━━━━━━━━━━━━━━┳━━━━━━━━━━━━━━━┓\n",
              "┃\u001b[1m \u001b[0m\u001b[1mLayer (type)                   \u001b[0m\u001b[1m \u001b[0m┃\u001b[1m \u001b[0m\u001b[1mOutput Shape          \u001b[0m\u001b[1m \u001b[0m┃\u001b[1m \u001b[0m\u001b[1m      Param #\u001b[0m\u001b[1m \u001b[0m┃\n",
              "┡━━━━━━━━━━━━━━━━━━━━━━━━━━━━━━━━━╇━━━━━━━━━━━━━━━━━━━━━━━━╇━━━━━━━━━━━━━━━┩\n",
              "│ input_layer_2 (\u001b[38;5;33mInputLayer\u001b[0m)      │ (\u001b[38;5;45mNone\u001b[0m, \u001b[38;5;34m32\u001b[0m, \u001b[38;5;34m32\u001b[0m, \u001b[38;5;34m3\u001b[0m)      │             \u001b[38;5;34m0\u001b[0m │\n",
              "├─────────────────────────────────┼────────────────────────┼───────────────┤\n",
              "│ flatten_2 (\u001b[38;5;33mFlatten\u001b[0m)             │ (\u001b[38;5;45mNone\u001b[0m, \u001b[38;5;34m3072\u001b[0m)           │             \u001b[38;5;34m0\u001b[0m │\n",
              "├─────────────────────────────────┼────────────────────────┼───────────────┤\n",
              "│ dense_6 (\u001b[38;5;33mDense\u001b[0m)                 │ (\u001b[38;5;45mNone\u001b[0m, \u001b[38;5;34m200\u001b[0m)            │       \u001b[38;5;34m614,600\u001b[0m │\n",
              "├─────────────────────────────────┼────────────────────────┼───────────────┤\n",
              "│ dense_7 (\u001b[38;5;33mDense\u001b[0m)                 │ (\u001b[38;5;45mNone\u001b[0m, \u001b[38;5;34m150\u001b[0m)            │        \u001b[38;5;34m30,150\u001b[0m │\n",
              "├─────────────────────────────────┼────────────────────────┼───────────────┤\n",
              "│ dense_8 (\u001b[38;5;33mDense\u001b[0m)                 │ (\u001b[38;5;45mNone\u001b[0m, \u001b[38;5;34m10\u001b[0m)             │         \u001b[38;5;34m1,510\u001b[0m │\n",
              "└─────────────────────────────────┴────────────────────────┴───────────────┘\n"
            ],
            "text/html": [
              "<pre style=\"white-space:pre;overflow-x:auto;line-height:normal;font-family:Menlo,'DejaVu Sans Mono',consolas,'Courier New',monospace\">┏━━━━━━━━━━━━━━━━━━━━━━━━━━━━━━━━━┳━━━━━━━━━━━━━━━━━━━━━━━━┳━━━━━━━━━━━━━━━┓\n",
              "┃<span style=\"font-weight: bold\"> Layer (type)                    </span>┃<span style=\"font-weight: bold\"> Output Shape           </span>┃<span style=\"font-weight: bold\">       Param # </span>┃\n",
              "┡━━━━━━━━━━━━━━━━━━━━━━━━━━━━━━━━━╇━━━━━━━━━━━━━━━━━━━━━━━━╇━━━━━━━━━━━━━━━┩\n",
              "│ input_layer_2 (<span style=\"color: #0087ff; text-decoration-color: #0087ff\">InputLayer</span>)      │ (<span style=\"color: #00d7ff; text-decoration-color: #00d7ff\">None</span>, <span style=\"color: #00af00; text-decoration-color: #00af00\">32</span>, <span style=\"color: #00af00; text-decoration-color: #00af00\">32</span>, <span style=\"color: #00af00; text-decoration-color: #00af00\">3</span>)      │             <span style=\"color: #00af00; text-decoration-color: #00af00\">0</span> │\n",
              "├─────────────────────────────────┼────────────────────────┼───────────────┤\n",
              "│ flatten_2 (<span style=\"color: #0087ff; text-decoration-color: #0087ff\">Flatten</span>)             │ (<span style=\"color: #00d7ff; text-decoration-color: #00d7ff\">None</span>, <span style=\"color: #00af00; text-decoration-color: #00af00\">3072</span>)           │             <span style=\"color: #00af00; text-decoration-color: #00af00\">0</span> │\n",
              "├─────────────────────────────────┼────────────────────────┼───────────────┤\n",
              "│ dense_6 (<span style=\"color: #0087ff; text-decoration-color: #0087ff\">Dense</span>)                 │ (<span style=\"color: #00d7ff; text-decoration-color: #00d7ff\">None</span>, <span style=\"color: #00af00; text-decoration-color: #00af00\">200</span>)            │       <span style=\"color: #00af00; text-decoration-color: #00af00\">614,600</span> │\n",
              "├─────────────────────────────────┼────────────────────────┼───────────────┤\n",
              "│ dense_7 (<span style=\"color: #0087ff; text-decoration-color: #0087ff\">Dense</span>)                 │ (<span style=\"color: #00d7ff; text-decoration-color: #00d7ff\">None</span>, <span style=\"color: #00af00; text-decoration-color: #00af00\">150</span>)            │        <span style=\"color: #00af00; text-decoration-color: #00af00\">30,150</span> │\n",
              "├─────────────────────────────────┼────────────────────────┼───────────────┤\n",
              "│ dense_8 (<span style=\"color: #0087ff; text-decoration-color: #0087ff\">Dense</span>)                 │ (<span style=\"color: #00d7ff; text-decoration-color: #00d7ff\">None</span>, <span style=\"color: #00af00; text-decoration-color: #00af00\">10</span>)             │         <span style=\"color: #00af00; text-decoration-color: #00af00\">1,510</span> │\n",
              "└─────────────────────────────────┴────────────────────────┴───────────────┘\n",
              "</pre>\n"
            ]
          },
          "metadata": {}
        },
        {
          "output_type": "display_data",
          "data": {
            "text/plain": [
              "\u001b[1m Total params: \u001b[0m\u001b[38;5;34m646,260\u001b[0m (2.47 MB)\n"
            ],
            "text/html": [
              "<pre style=\"white-space:pre;overflow-x:auto;line-height:normal;font-family:Menlo,'DejaVu Sans Mono',consolas,'Courier New',monospace\"><span style=\"font-weight: bold\"> Total params: </span><span style=\"color: #00af00; text-decoration-color: #00af00\">646,260</span> (2.47 MB)\n",
              "</pre>\n"
            ]
          },
          "metadata": {}
        },
        {
          "output_type": "display_data",
          "data": {
            "text/plain": [
              "\u001b[1m Trainable params: \u001b[0m\u001b[38;5;34m646,260\u001b[0m (2.47 MB)\n"
            ],
            "text/html": [
              "<pre style=\"white-space:pre;overflow-x:auto;line-height:normal;font-family:Menlo,'DejaVu Sans Mono',consolas,'Courier New',monospace\"><span style=\"font-weight: bold\"> Trainable params: </span><span style=\"color: #00af00; text-decoration-color: #00af00\">646,260</span> (2.47 MB)\n",
              "</pre>\n"
            ]
          },
          "metadata": {}
        },
        {
          "output_type": "display_data",
          "data": {
            "text/plain": [
              "\u001b[1m Non-trainable params: \u001b[0m\u001b[38;5;34m0\u001b[0m (0.00 B)\n"
            ],
            "text/html": [
              "<pre style=\"white-space:pre;overflow-x:auto;line-height:normal;font-family:Menlo,'DejaVu Sans Mono',consolas,'Courier New',monospace\"><span style=\"font-weight: bold\"> Non-trainable params: </span><span style=\"color: #00af00; text-decoration-color: #00af00\">0</span> (0.00 B)\n",
              "</pre>\n"
            ]
          },
          "metadata": {}
        },
        {
          "output_type": "stream",
          "name": "stdout",
          "text": [
            "\n",
            "All three models have been created successfully!\n",
            "Next step: Compile and train each model separately\n"
          ]
        }
      ],
      "source": [
        "# MLP Models with Different Activation Functions\n",
        "import numpy as np\n",
        "import matplotlib.pyplot as plt\n",
        "from tensorflow.keras import layers, models, optimizers, utils, datasets\n",
        "\n",
        "# Parameters\n",
        "NUM_CLASSES = 10\n",
        "\n",
        "# Prepare the Data (same for all models)\n",
        "(x_train, y_train), (x_test, y_test) = datasets.cifar10.load_data()\n",
        "\n",
        "x_train = x_train.astype(\"float32\") / 255.0\n",
        "x_test = x_test.astype(\"float32\") / 255.0\n",
        "\n",
        "y_train = utils.to_categorical(y_train, NUM_CLASSES)\n",
        "y_test = utils.to_categorical(y_test, NUM_CLASSES)\n",
        "\n",
        "print(f\"Training data shape: {x_train.shape}\")\n",
        "print(f\"Training labels shape: {y_train.shape}\")\n",
        "print(f\"Test data shape: {x_test.shape}\")\n",
        "print(f\"Test labels shape: {y_test.shape}\")\n",
        "\n",
        "# Model 1: ReLU Activation\n",
        "def build_relu_model():\n",
        "    \"\"\"Build MLP model with ReLU activation\"\"\"\n",
        "    input_layer = layers.Input((32, 32, 3))\n",
        "\n",
        "    x = layers.Flatten()(input_layer)\n",
        "    x = layers.Dense(200, activation=\"relu\")(x)\n",
        "    x = layers.Dense(150, activation=\"relu\")(x)\n",
        "\n",
        "    output_layer = layers.Dense(NUM_CLASSES, activation=\"softmax\")(x)\n",
        "\n",
        "    model = models.Model(input_layer, output_layer)\n",
        "    return model\n",
        "\n",
        "# Model 2: LeakyReLU Activation\n",
        "def build_leaky_relu_model():\n",
        "    \"\"\"Build MLP model with LeakyReLU activation\"\"\"\n",
        "    input_layer = layers.Input((32, 32, 3))\n",
        "\n",
        "    x = layers.Flatten()(input_layer)\n",
        "    x = layers.Dense(200)(x)\n",
        "    x = layers.LeakyReLU(alpha=0.01)(x)\n",
        "    x = layers.Dense(150)(x)\n",
        "    x = layers.LeakyReLU(alpha=0.01)(x)\n",
        "\n",
        "    output_layer = layers.Dense(NUM_CLASSES, activation=\"softmax\")(x)\n",
        "\n",
        "    model = models.Model(input_layer, output_layer)\n",
        "    return model\n",
        "\n",
        "# Model 3: Sigmoid Activation\n",
        "def build_sigmoid_model():\n",
        "    \"\"\"Build MLP model with Sigmoid activation\"\"\"\n",
        "    input_layer = layers.Input((32, 32, 3))\n",
        "\n",
        "    x = layers.Flatten()(input_layer)\n",
        "    x = layers.Dense(200, activation=\"sigmoid\")(x)\n",
        "    x = layers.Dense(150, activation=\"sigmoid\")(x)\n",
        "\n",
        "    output_layer = layers.Dense(NUM_CLASSES, activation=\"softmax\")(x)\n",
        "\n",
        "    model = models.Model(input_layer, output_layer)\n",
        "    return model\n",
        "\n",
        "# Create all three models\n",
        "print(\"Building models...\")\n",
        "relu_model = build_relu_model()\n",
        "leaky_relu_model = build_leaky_relu_model()\n",
        "sigmoid_model = build_sigmoid_model()\n",
        "\n",
        "print(\"\\n=== ReLU Model Summary ===\")\n",
        "relu_model.summary()\n",
        "\n",
        "print(\"\\n=== LeakyReLU Model Summary ===\")\n",
        "leaky_relu_model.summary()\n",
        "\n",
        "print(\"\\n=== Sigmoid Model Summary ===\")\n",
        "sigmoid_model.summary()\n",
        "\n",
        "print(\"\\nAll three models have been created successfully!\")\n",
        "print(\"Next step: Compile and train each model separately\")"
      ]
    },
    {
      "cell_type": "code",
      "source": [
        "# Training Steps for All Three Models\n",
        "# (Continue from the previous code where models are already built)\n",
        "\n",
        "# Training configuration (same for all models)\n",
        "LEARNING_RATE = 0.0005\n",
        "BATCH_SIZE = 32\n",
        "EPOCHS = 10\n",
        "\n",
        "print(\"Starting training process...\")\n",
        "\n",
        "# Step 1: Train ReLU Model\n",
        "print(\"\\n\" + \"=\"*50)\n",
        "print(\"TRAINING ReLU MODEL\")\n",
        "print(\"=\"*50)\n",
        "\n",
        "# Compile ReLU model\n",
        "opt_relu = optimizers.Adam(learning_rate=LEARNING_RATE)\n",
        "relu_model.compile(\n",
        "    loss=\"categorical_crossentropy\",\n",
        "    optimizer=opt_relu,\n",
        "    metrics=[\"accuracy\"]\n",
        ")\n",
        "\n",
        "# Train ReLU model\n",
        "print(\"Training ReLU model...\")\n",
        "relu_history = relu_model.fit(\n",
        "    x_train, y_train,\n",
        "    batch_size=BATCH_SIZE,\n",
        "    epochs=EPOCHS,\n",
        "    shuffle=True,\n",
        "    validation_split=0.1,\n",
        "    verbose=1\n",
        ")\n",
        "\n",
        "print(\"ReLU model training completed!\")\n",
        "\n",
        "# Step 2: Train LeakyReLU Model\n",
        "print(\"\\n\" + \"=\"*50)\n",
        "print(\"TRAINING LeakyReLU MODEL\")\n",
        "print(\"=\"*50)\n",
        "\n",
        "# Compile LeakyReLU model\n",
        "opt_leaky = optimizers.Adam(learning_rate=LEARNING_RATE)\n",
        "leaky_relu_model.compile(\n",
        "    loss=\"categorical_crossentropy\",\n",
        "    optimizer=opt_leaky,\n",
        "    metrics=[\"accuracy\"]\n",
        ")\n",
        "\n",
        "# Train LeakyReLU model\n",
        "print(\"Training LeakyReLU model...\")\n",
        "leaky_relu_history = leaky_relu_model.fit(\n",
        "    x_train, y_train,\n",
        "    batch_size=BATCH_SIZE,\n",
        "    epochs=EPOCHS,\n",
        "    shuffle=True,\n",
        "    validation_split=0.1,\n",
        "    verbose=1\n",
        ")\n",
        "\n",
        "print(\"LeakyReLU model training completed!\")\n",
        "\n",
        "# Step 3: Train Sigmoid Model\n",
        "print(\"\\n\" + \"=\"*50)\n",
        "print(\"TRAINING SIGMOID MODEL\")\n",
        "print(\"=\"*50)\n",
        "\n",
        "# Compile Sigmoid model\n",
        "opt_sigmoid = optimizers.Adam(learning_rate=LEARNING_RATE)\n",
        "sigmoid_model.compile(\n",
        "    loss=\"categorical_crossentropy\",\n",
        "    optimizer=opt_sigmoid,\n",
        "    metrics=[\"accuracy\"]\n",
        ")\n",
        "\n",
        "# Train Sigmoid model\n",
        "print(\"Training Sigmoid model...\")\n",
        "sigmoid_history = sigmoid_model.fit(\n",
        "    x_train, y_train,\n",
        "    batch_size=BATCH_SIZE,\n",
        "    epochs=EPOCHS,\n",
        "    shuffle=True,\n",
        "    validation_split=0.1,\n",
        "    verbose=1\n",
        ")\n",
        "\n",
        "print(\"Sigmoid model training completed!\")\n",
        "\n",
        "print(\"\\n\" + \"=\"*50)\n",
        "print(\"ALL MODELS TRAINING COMPLETED\")\n",
        "print(\"=\"*50)\n",
        "\n",
        "# Save training histories for analysis\n",
        "training_histories = {\n",
        "    'relu': relu_history,\n",
        "    'leaky_relu': leaky_relu_history,\n",
        "    'sigmoid': sigmoid_history\n",
        "}\n",
        "\n",
        "print(\"Training histories saved for evaluation step.\")"
      ],
      "metadata": {
        "colab": {
          "base_uri": "https://localhost:8080/"
        },
        "id": "621p5X_ajd-4",
        "outputId": "16d3dd76-f6e8-447f-ebda-46001e13a37d"
      },
      "execution_count": 2,
      "outputs": [
        {
          "output_type": "stream",
          "name": "stdout",
          "text": [
            "Starting training process...\n",
            "\n",
            "==================================================\n",
            "TRAINING ReLU MODEL\n",
            "==================================================\n",
            "Training ReLU model...\n",
            "Epoch 1/10\n",
            "\u001b[1m1407/1407\u001b[0m \u001b[32m━━━━━━━━━━━━━━━━━━━━\u001b[0m\u001b[37m\u001b[0m \u001b[1m15s\u001b[0m 10ms/step - accuracy: 0.2788 - loss: 1.9823 - val_accuracy: 0.3564 - val_loss: 1.8267\n",
            "Epoch 2/10\n",
            "\u001b[1m1407/1407\u001b[0m \u001b[32m━━━━━━━━━━━━━━━━━━━━\u001b[0m\u001b[37m\u001b[0m \u001b[1m14s\u001b[0m 10ms/step - accuracy: 0.3864 - loss: 1.7067 - val_accuracy: 0.4314 - val_loss: 1.6457\n",
            "Epoch 3/10\n",
            "\u001b[1m1407/1407\u001b[0m \u001b[32m━━━━━━━━━━━━━━━━━━━━\u001b[0m\u001b[37m\u001b[0m \u001b[1m15s\u001b[0m 11ms/step - accuracy: 0.4200 - loss: 1.6149 - val_accuracy: 0.4168 - val_loss: 1.6221\n",
            "Epoch 4/10\n",
            "\u001b[1m1407/1407\u001b[0m \u001b[32m━━━━━━━━━━━━━━━━━━━━\u001b[0m\u001b[37m\u001b[0m \u001b[1m15s\u001b[0m 10ms/step - accuracy: 0.4435 - loss: 1.5609 - val_accuracy: 0.4432 - val_loss: 1.5545\n",
            "Epoch 5/10\n",
            "\u001b[1m1407/1407\u001b[0m \u001b[32m━━━━━━━━━━━━━━━━━━━━\u001b[0m\u001b[37m\u001b[0m \u001b[1m15s\u001b[0m 11ms/step - accuracy: 0.4612 - loss: 1.5117 - val_accuracy: 0.4536 - val_loss: 1.5339\n",
            "Epoch 6/10\n",
            "\u001b[1m1407/1407\u001b[0m \u001b[32m━━━━━━━━━━━━━━━━━━━━\u001b[0m\u001b[37m\u001b[0m \u001b[1m15s\u001b[0m 10ms/step - accuracy: 0.4732 - loss: 1.4756 - val_accuracy: 0.4704 - val_loss: 1.5135\n",
            "Epoch 7/10\n",
            "\u001b[1m1407/1407\u001b[0m \u001b[32m━━━━━━━━━━━━━━━━━━━━\u001b[0m\u001b[37m\u001b[0m \u001b[1m14s\u001b[0m 10ms/step - accuracy: 0.4898 - loss: 1.4411 - val_accuracy: 0.4564 - val_loss: 1.5645\n",
            "Epoch 8/10\n",
            "\u001b[1m1407/1407\u001b[0m \u001b[32m━━━━━━━━━━━━━━━━━━━━\u001b[0m\u001b[37m\u001b[0m \u001b[1m14s\u001b[0m 10ms/step - accuracy: 0.4872 - loss: 1.4344 - val_accuracy: 0.4660 - val_loss: 1.4862\n",
            "Epoch 9/10\n",
            "\u001b[1m1407/1407\u001b[0m \u001b[32m━━━━━━━━━━━━━━━━━━━━\u001b[0m\u001b[37m\u001b[0m \u001b[1m14s\u001b[0m 10ms/step - accuracy: 0.4957 - loss: 1.4139 - val_accuracy: 0.4678 - val_loss: 1.4846\n",
            "Epoch 10/10\n",
            "\u001b[1m1407/1407\u001b[0m \u001b[32m━━━━━━━━━━━━━━━━━━━━\u001b[0m\u001b[37m\u001b[0m \u001b[1m20s\u001b[0m 10ms/step - accuracy: 0.5061 - loss: 1.3880 - val_accuracy: 0.4848 - val_loss: 1.4773\n",
            "ReLU model training completed!\n",
            "\n",
            "==================================================\n",
            "TRAINING LeakyReLU MODEL\n",
            "==================================================\n",
            "Training LeakyReLU model...\n",
            "Epoch 1/10\n",
            "\u001b[1m1407/1407\u001b[0m \u001b[32m━━━━━━━━━━━━━━━━━━━━\u001b[0m\u001b[37m\u001b[0m \u001b[1m15s\u001b[0m 10ms/step - accuracy: 0.2805 - loss: 1.9778 - val_accuracy: 0.3934 - val_loss: 1.6975\n",
            "Epoch 2/10\n",
            "\u001b[1m1407/1407\u001b[0m \u001b[32m━━━━━━━━━━━━━━━━━━━━\u001b[0m\u001b[37m\u001b[0m \u001b[1m20s\u001b[0m 10ms/step - accuracy: 0.3959 - loss: 1.6913 - val_accuracy: 0.4056 - val_loss: 1.6495\n",
            "Epoch 3/10\n",
            "\u001b[1m1407/1407\u001b[0m \u001b[32m━━━━━━━━━━━━━━━━━━━━\u001b[0m\u001b[37m\u001b[0m \u001b[1m21s\u001b[0m 10ms/step - accuracy: 0.4243 - loss: 1.6091 - val_accuracy: 0.4148 - val_loss: 1.6353\n",
            "Epoch 4/10\n",
            "\u001b[1m1407/1407\u001b[0m \u001b[32m━━━━━━━━━━━━━━━━━━━━\u001b[0m\u001b[37m\u001b[0m \u001b[1m14s\u001b[0m 10ms/step - accuracy: 0.4455 - loss: 1.5574 - val_accuracy: 0.4142 - val_loss: 1.6273\n",
            "Epoch 5/10\n",
            "\u001b[1m1407/1407\u001b[0m \u001b[32m━━━━━━━━━━━━━━━━━━━━\u001b[0m\u001b[37m\u001b[0m \u001b[1m20s\u001b[0m 10ms/step - accuracy: 0.4586 - loss: 1.5174 - val_accuracy: 0.4656 - val_loss: 1.5007\n",
            "Epoch 6/10\n",
            "\u001b[1m1407/1407\u001b[0m \u001b[32m━━━━━━━━━━━━━━━━━━━━\u001b[0m\u001b[37m\u001b[0m \u001b[1m14s\u001b[0m 10ms/step - accuracy: 0.4699 - loss: 1.4936 - val_accuracy: 0.4290 - val_loss: 1.5823\n",
            "Epoch 7/10\n",
            "\u001b[1m1407/1407\u001b[0m \u001b[32m━━━━━━━━━━━━━━━━━━━━\u001b[0m\u001b[37m\u001b[0m \u001b[1m14s\u001b[0m 10ms/step - accuracy: 0.4782 - loss: 1.4584 - val_accuracy: 0.4786 - val_loss: 1.4804\n",
            "Epoch 8/10\n",
            "\u001b[1m1407/1407\u001b[0m \u001b[32m━━━━━━━━━━━━━━━━━━━━\u001b[0m\u001b[37m\u001b[0m \u001b[1m14s\u001b[0m 10ms/step - accuracy: 0.4916 - loss: 1.4163 - val_accuracy: 0.4678 - val_loss: 1.4999\n",
            "Epoch 9/10\n",
            "\u001b[1m1407/1407\u001b[0m \u001b[32m━━━━━━━━━━━━━━━━━━━━\u001b[0m\u001b[37m\u001b[0m \u001b[1m20s\u001b[0m 10ms/step - accuracy: 0.5034 - loss: 1.4007 - val_accuracy: 0.4804 - val_loss: 1.4687\n",
            "Epoch 10/10\n",
            "\u001b[1m1407/1407\u001b[0m \u001b[32m━━━━━━━━━━━━━━━━━━━━\u001b[0m\u001b[37m\u001b[0m \u001b[1m13s\u001b[0m 10ms/step - accuracy: 0.5127 - loss: 1.3742 - val_accuracy: 0.4990 - val_loss: 1.4225\n",
            "LeakyReLU model training completed!\n",
            "\n",
            "==================================================\n",
            "TRAINING SIGMOID MODEL\n",
            "==================================================\n",
            "Training Sigmoid model...\n",
            "Epoch 1/10\n",
            "\u001b[1m1407/1407\u001b[0m \u001b[32m━━━━━━━━━━━━━━━━━━━━\u001b[0m\u001b[37m\u001b[0m \u001b[1m15s\u001b[0m 10ms/step - accuracy: 0.2683 - loss: 2.0145 - val_accuracy: 0.3696 - val_loss: 1.7747\n",
            "Epoch 2/10\n",
            "\u001b[1m1407/1407\u001b[0m \u001b[32m━━━━━━━━━━━━━━━━━━━━\u001b[0m\u001b[37m\u001b[0m \u001b[1m14s\u001b[0m 10ms/step - accuracy: 0.3860 - loss: 1.7281 - val_accuracy: 0.3860 - val_loss: 1.6887\n",
            "Epoch 3/10\n",
            "\u001b[1m1407/1407\u001b[0m \u001b[32m━━━━━━━━━━━━━━━━━━━━\u001b[0m\u001b[37m\u001b[0m \u001b[1m14s\u001b[0m 10ms/step - accuracy: 0.4151 - loss: 1.6299 - val_accuracy: 0.4270 - val_loss: 1.6177\n",
            "Epoch 4/10\n",
            "\u001b[1m1407/1407\u001b[0m \u001b[32m━━━━━━━━━━━━━━━━━━━━\u001b[0m\u001b[37m\u001b[0m \u001b[1m20s\u001b[0m 10ms/step - accuracy: 0.4386 - loss: 1.5787 - val_accuracy: 0.4342 - val_loss: 1.5834\n",
            "Epoch 5/10\n",
            "\u001b[1m1407/1407\u001b[0m \u001b[32m━━━━━━━━━━━━━━━━━━━━\u001b[0m\u001b[37m\u001b[0m \u001b[1m15s\u001b[0m 10ms/step - accuracy: 0.4497 - loss: 1.5318 - val_accuracy: 0.4220 - val_loss: 1.6191\n",
            "Epoch 6/10\n",
            "\u001b[1m1407/1407\u001b[0m \u001b[32m━━━━━━━━━━━━━━━━━━━━\u001b[0m\u001b[37m\u001b[0m \u001b[1m22s\u001b[0m 12ms/step - accuracy: 0.4617 - loss: 1.5066 - val_accuracy: 0.4318 - val_loss: 1.5829\n",
            "Epoch 7/10\n",
            "\u001b[1m1407/1407\u001b[0m \u001b[32m━━━━━━━━━━━━━━━━━━━━\u001b[0m\u001b[37m\u001b[0m \u001b[1m18s\u001b[0m 10ms/step - accuracy: 0.4720 - loss: 1.4774 - val_accuracy: 0.4636 - val_loss: 1.5254\n",
            "Epoch 8/10\n",
            "\u001b[1m1407/1407\u001b[0m \u001b[32m━━━━━━━━━━━━━━━━━━━━\u001b[0m\u001b[37m\u001b[0m \u001b[1m21s\u001b[0m 10ms/step - accuracy: 0.4784 - loss: 1.4578 - val_accuracy: 0.4572 - val_loss: 1.5267\n",
            "Epoch 9/10\n",
            "\u001b[1m1407/1407\u001b[0m \u001b[32m━━━━━━━━━━━━━━━━━━━━\u001b[0m\u001b[37m\u001b[0m \u001b[1m20s\u001b[0m 10ms/step - accuracy: 0.4865 - loss: 1.4350 - val_accuracy: 0.4680 - val_loss: 1.4942\n",
            "Epoch 10/10\n",
            "\u001b[1m1407/1407\u001b[0m \u001b[32m━━━━━━━━━━━━━━━━━━━━\u001b[0m\u001b[37m\u001b[0m \u001b[1m20s\u001b[0m 10ms/step - accuracy: 0.4969 - loss: 1.4087 - val_accuracy: 0.4792 - val_loss: 1.4909\n",
            "Sigmoid model training completed!\n",
            "\n",
            "==================================================\n",
            "ALL MODELS TRAINING COMPLETED\n",
            "==================================================\n",
            "Training histories saved for evaluation step.\n"
          ]
        }
      ]
    },
    {
      "cell_type": "code",
      "source": [
        "# Evaluation Steps for All Three Models\n",
        "# (Continue from the previous code where all models are trained)\n",
        "\n",
        "import pandas as pd\n",
        "\n",
        "print(\"Starting evaluation process...\")\n",
        "\n",
        "# Step 1: Evaluate all models on test data\n",
        "print(\"\\n\" + \"=\"*50)\n",
        "print(\"EVALUATING ALL MODELS\")\n",
        "print(\"=\"*50)\n",
        "\n",
        "# Evaluate ReLU model\n",
        "print(\"Evaluating ReLU model...\")\n",
        "relu_test_loss, relu_test_accuracy = relu_model.evaluate(x_test, y_test, verbose=0)\n",
        "print(f\"ReLU - Test Loss: {relu_test_loss:.4f}, Test Accuracy: {relu_test_accuracy:.4f}\")\n",
        "\n",
        "# Evaluate LeakyReLU model\n",
        "print(\"Evaluating LeakyReLU model...\")\n",
        "leaky_test_loss, leaky_test_accuracy = leaky_relu_model.evaluate(x_test, y_test, verbose=0)\n",
        "print(f\"LeakyReLU - Test Loss: {leaky_test_loss:.4f}, Test Accuracy: {leaky_test_accuracy:.4f}\")\n",
        "\n",
        "# Evaluate Sigmoid model\n",
        "print(\"Evaluating Sigmoid model...\")\n",
        "sigmoid_test_loss, sigmoid_test_accuracy = sigmoid_model.evaluate(x_test, y_test, verbose=0)\n",
        "print(f\"Sigmoid - Test Loss: {sigmoid_test_loss:.4f}, Test Accuracy: {sigmoid_test_accuracy:.4f}\")\n",
        "\n",
        "# Step 2: Collect and organize results\n",
        "print(\"\\n\" + \"=\"*50)\n",
        "print(\"RESULTS SUMMARY\")\n",
        "print(\"=\"*50)\n",
        "\n",
        "# Extract final training metrics\n",
        "relu_final_train_acc = relu_history.history['accuracy'][-1]\n",
        "relu_final_train_loss = relu_history.history['loss'][-1]\n",
        "\n",
        "leaky_final_train_acc = leaky_relu_history.history['accuracy'][-1]\n",
        "leaky_final_train_loss = leaky_relu_history.history['loss'][-1]\n",
        "\n",
        "sigmoid_final_train_acc = sigmoid_history.history['accuracy'][-1]\n",
        "sigmoid_final_train_loss = sigmoid_history.history['loss'][-1]\n",
        "\n",
        "# Create results dataframe\n",
        "results_data = {\n",
        "    'Activation Function': ['ReLU', 'LeakyReLU', 'Sigmoid'],\n",
        "    'Final Training Accuracy': [relu_final_train_acc, leaky_final_train_acc, sigmoid_final_train_acc],\n",
        "    'Final Training Loss': [relu_final_train_loss, leaky_final_train_loss, sigmoid_final_train_loss],\n",
        "    'Test Accuracy': [relu_test_accuracy, leaky_test_accuracy, sigmoid_test_accuracy],\n",
        "    'Test Loss': [relu_test_loss, leaky_test_loss, sigmoid_test_loss]\n",
        "}\n",
        "\n",
        "results_df = pd.DataFrame(results_data)\n",
        "print(results_df)\n",
        "\n",
        "# Step 3: Plot training histories\n",
        "print(\"\\n\" + \"=\"*50)\n",
        "print(\"PLOTTING TRAINING HISTORIES\")\n",
        "print(\"=\"*50)\n",
        "\n",
        "# Plot training accuracy\n",
        "plt.figure(figsize=(15, 5))\n",
        "\n",
        "plt.subplot(1, 3, 1)\n",
        "plt.plot(relu_history.history['accuracy'], label='ReLU', color='blue')\n",
        "plt.plot(leaky_relu_history.history['accuracy'], label='LeakyReLU', color='green')\n",
        "plt.plot(sigmoid_history.history['accuracy'], label='Sigmoid', color='red')\n",
        "plt.title('Training Accuracy Comparison')\n",
        "plt.xlabel('Epoch')\n",
        "plt.ylabel('Accuracy')\n",
        "plt.legend()\n",
        "plt.grid(True)\n",
        "\n",
        "# Plot training loss\n",
        "plt.subplot(1, 3, 2)\n",
        "plt.plot(relu_history.history['loss'], label='ReLU', color='blue')\n",
        "plt.plot(leaky_relu_history.history['loss'], label='LeakyReLU', color='green')\n",
        "plt.plot(sigmoid_history.history['loss'], label='Sigmoid', color='red')\n",
        "plt.title('Training Loss Comparison')\n",
        "plt.xlabel('Epoch')\n",
        "plt.ylabel('Loss')\n",
        "plt.legend()\n",
        "plt.grid(True)\n",
        "\n",
        "# Plot test accuracy comparison\n",
        "plt.subplot(1, 3, 3)\n",
        "activation_names = ['ReLU', 'LeakyReLU', 'Sigmoid']\n",
        "test_accuracies = [relu_test_accuracy, leaky_test_accuracy, sigmoid_test_accuracy]\n",
        "colors = ['blue', 'green', 'red']\n",
        "\n",
        "plt.bar(activation_names, test_accuracies, color=colors, alpha=0.7)\n",
        "plt.title('Test Accuracy Comparison')\n",
        "plt.ylabel('Test Accuracy')\n",
        "plt.ylim(0, 1)\n",
        "\n",
        "# Add value labels on bars\n",
        "for i, v in enumerate(test_accuracies):\n",
        "    plt.text(i, v + 0.01, f'{v:.3f}', ha='center', va='bottom')\n",
        "\n",
        "plt.tight_layout()\n",
        "plt.show()\n",
        "\n",
        "# Step 4: Generate sample predictions\n",
        "print(\"\\n\" + \"=\"*50)\n",
        "print(\"SAMPLE PREDICTIONS\")\n",
        "print(\"=\"*50)\n",
        "\n",
        "CLASSES = np.array([\n",
        "    \"airplane\", \"automobile\", \"bird\", \"cat\", \"deer\",\n",
        "    \"dog\", \"frog\", \"horse\", \"ship\", \"truck\"\n",
        "])\n",
        "\n",
        "# Get predictions from all models\n",
        "relu_preds = relu_model.predict(x_test[:10])\n",
        "leaky_preds = leaky_relu_model.predict(x_test[:10])\n",
        "sigmoid_preds = sigmoid_model.predict(x_test[:10])\n",
        "\n",
        "# Convert to class names\n",
        "relu_pred_classes = CLASSES[np.argmax(relu_preds, axis=-1)]\n",
        "leaky_pred_classes = CLASSES[np.argmax(leaky_preds, axis=-1)]\n",
        "sigmoid_pred_classes = CLASSES[np.argmax(sigmoid_preds, axis=-1)]\n",
        "actual_classes = CLASSES[np.argmax(y_test[:10], axis=-1)]\n",
        "\n",
        "# Display comparison\n",
        "print(\"Sample Predictions (First 10 test images):\")\n",
        "print(\"-\" * 70)\n",
        "print(f\"{'Image':>5} | {'Actual':>10} | {'ReLU':>10} | {'LeakyReLU':>10} | {'Sigmoid':>10}\")\n",
        "print(\"-\" * 70)\n",
        "\n",
        "for i in range(10):\n",
        "    print(f\"{i+1:>5} | {actual_classes[i]:>10} | {relu_pred_classes[i]:>10} | \"\n",
        "          f\"{leaky_pred_classes[i]:>10} | {sigmoid_pred_classes[i]:>10}\")\n",
        "\n",
        "print(\"\\nEvaluation completed!\")"
      ],
      "metadata": {
        "colab": {
          "base_uri": "https://localhost:8080/",
          "height": 1000
        },
        "id": "xqaHU5sCljtW",
        "outputId": "4fb53b75-c2a2-426a-c665-b4be80f081e2"
      },
      "execution_count": 3,
      "outputs": [
        {
          "output_type": "stream",
          "name": "stdout",
          "text": [
            "Starting evaluation process...\n",
            "\n",
            "==================================================\n",
            "EVALUATING ALL MODELS\n",
            "==================================================\n",
            "Evaluating ReLU model...\n",
            "ReLU - Test Loss: 1.4754, Test Accuracy: 0.4756\n",
            "Evaluating LeakyReLU model...\n",
            "LeakyReLU - Test Loss: 1.4293, Test Accuracy: 0.4952\n",
            "Evaluating Sigmoid model...\n",
            "Sigmoid - Test Loss: 1.4851, Test Accuracy: 0.4802\n",
            "\n",
            "==================================================\n",
            "RESULTS SUMMARY\n",
            "==================================================\n",
            "  Activation Function  Final Training Accuracy  Final Training Loss  \\\n",
            "0                ReLU                 0.502667             1.394347   \n",
            "1           LeakyReLU                 0.510578             1.376361   \n",
            "2             Sigmoid                 0.496756             1.412919   \n",
            "\n",
            "   Test Accuracy  Test Loss  \n",
            "0         0.4756   1.475404  \n",
            "1         0.4952   1.429344  \n",
            "2         0.4802   1.485099  \n",
            "\n",
            "==================================================\n",
            "PLOTTING TRAINING HISTORIES\n",
            "==================================================\n"
          ]
        },
        {
          "output_type": "display_data",
          "data": {
            "text/plain": [
              "<Figure size 1500x500 with 3 Axes>"
            ],
            "image/png": "[encoded data removed]"
          },
          "metadata": {}
        },
        {
          "output_type": "stream",
          "name": "stdout",
          "text": [
            "\n",
            "==================================================\n",
            "SAMPLE PREDICTIONS\n",
            "==================================================\n",
            "\u001b[1m1/1\u001b[0m \u001b[32m━━━━━━━━━━━━━━━━━━━━\u001b[0m\u001b[37m\u001b[0m \u001b[1m0s\u001b[0m 116ms/step\n",
            "\u001b[1m1/1\u001b[0m \u001b[32m━━━━━━━━━━━━━━━━━━━━\u001b[0m\u001b[37m\u001b[0m \u001b[1m0s\u001b[0m 132ms/step\n",
            "\u001b[1m1/1\u001b[0m \u001b[32m━━━━━━━━━━━━━━━━━━━━\u001b[0m\u001b[37m\u001b[0m \u001b[1m0s\u001b[0m 106ms/step\n",
            "Sample Predictions (First 10 test images):\n",
            "----------------------------------------------------------------------\n",
            "Image |     Actual |       ReLU |  LeakyReLU |    Sigmoid\n",
            "----------------------------------------------------------------------\n",
            "    1 |        cat |        dog |        cat |        cat\n",
            "    2 |       ship | automobile |       ship | automobile\n",
            "    3 |       ship |       ship |       ship | automobile\n",
            "    4 |   airplane |   airplane |       ship |   airplane\n",
            "    5 |       frog |       deer |       deer |       deer\n",
            "    6 |       frog |       frog |       frog |       frog\n",
            "    7 | automobile |        dog |        dog |        cat\n",
            "    8 |       frog |       frog |       frog |       deer\n",
            "    9 |        cat |       bird |       deer |       bird\n",
            "   10 | automobile | automobile | automobile | automobile\n",
            "\n",
            "Evaluation completed!\n"
          ]
        }
      ]
    }
  ]
}